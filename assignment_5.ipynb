{
  "nbformat": 4,
  "nbformat_minor": 0,
  "metadata": {
    "colab": {
      "provenance": []
    },
    "kernelspec": {
      "name": "python3",
      "display_name": "Python 3"
    },
    "language_info": {
      "name": "python"
    }
  },
  "cells": [
    {
      "cell_type": "markdown",
      "source": [
        "# Files, exceptional handling, logging and memory management Questions\n",
        "\n",
        "\n"
      ],
      "metadata": {
        "id": "N8Wa8Gmrsbpt"
      }
    },
    {
      "cell_type": "markdown",
      "source": [
        "1. What is the difference between interpreted and compiled languages?\n",
        "\n",
        "ANS: Interpreted languages execute code line by line (e.g., Python), while compiled languages convert the entire code into machine code before execution (e.g., C/C++), resulting in faster performance.\n",
        "\n",
        "2. What is exception handling in Python?\n",
        "\n",
        "ANS: Exception handling in Python is a mechanism to handle runtime errors using blocks like try, except, else, and finally.\n",
        "\n",
        "3. What is the purpose of the finally block in exception handling?\n",
        "\n",
        "ANS: The finally block is used to execute cleanup code, like closing files or releasing resources, regardless of whether an exception occurred.\n",
        "\n",
        "4. What is logging in Python?\n",
        "\n",
        "ANS: Logging is a way to track events that happen during the execution of a program, helping in debugging and monitoring applications.\n",
        "\n",
        "5. What is the significance of the __del__ method in Python?\n",
        "\n",
        "ANS: The __del__ method is a destructor that is called when an object is about to be destroyed, allowing cleanup operations.\n",
        "\n",
        "6. What is the difference between import and from ... import in Python?\n",
        "\n",
        "ANS: import module imports the entire module, while from module import name imports a specific attribute or function from the module.\n",
        "\n",
        "7. How can you handle multiple exceptions in Python?\n",
        "\n",
        "ANS: Use multiple except blocks or a single block with a tuple of exceptions:\n",
        "\n",
        "python\n",
        "Copy\n",
        "Edit\n",
        "try:\n",
        "    ...\n",
        "except (TypeError, ValueError):\n",
        "    ...\n",
        "8. What is the purpose of the with statement when handling files in Python?\n",
        "\n",
        "ANS: The with statement ensures that resources like files are properly closed after use, even if an error occurs.\n",
        "\n",
        "9. What is the difference between multithreading and multiprocessing?\n",
        "\n",
        "ANS: Multithreading runs multiple threads within the same process (sharing memory), while multiprocessing runs processes independently (separate memory).\n",
        "\n",
        "10. What are the advantages of using logging in a program?\n",
        "\n",
        "ANS: Logging helps in debugging, tracking program flow, monitoring application health, and storing error or info messages.\n",
        "\n",
        "11. What is memory management in Python?\n",
        "\n",
        "ANS: Memory management in Python involves allocating, using, and releasing memory automatically using a private heap and garbage collection.\n",
        "\n",
        "12. What are the basic steps involved in exception handling in Python?\n",
        "ANS:\n",
        "\n",
        "Use try to wrap code that may cause an exception.\n",
        "\n",
        "Use except to handle the error.\n",
        "\n",
        "Optionally use else for code to run if no exception.\n",
        "\n",
        "Use finally for cleanup actions.\n",
        "\n",
        "13. Why is memory management important in Python?\n",
        "\n",
        "ANS: It ensures efficient use of memory resources, prevents memory leaks, and improves program performance.\n",
        "\n",
        "14. What is the role of try and except in exception handling?\n",
        "\n",
        "ANS: The try block contains code that may raise an error, and the except block catches and handles that error gracefully.\n",
        "\n",
        "15. How does Python's garbage collection system work?\n",
        "\n",
        "ANS: Python uses reference counting and a cyclic garbage collector to reclaim unused memory by destroying objects no longer in use.\n",
        "\n",
        "16. What is the purpose of the else block in exception handling?\n",
        "\n",
        "ANS: The else block runs code if no exception was raised in the try block, keeping successful code separate from error handling.\n",
        "\n",
        "17. What are the common logging levels in Python?\n",
        "\n",
        "ANS: DEBUG, INFO, WARNING, ERROR, CRITICAL.\n",
        "\n",
        "18. What is the difference between os.fork() and multiprocessing in Python?\n",
        "\n",
        "ANS: os.fork() creates a child process (Unix-only), while the multiprocessing module provides a cross-platform way to create processes with easier management.\n",
        "\n",
        "19. What is the importance of closing a file in Python?\n",
        "\n",
        "ANS: Closing a file releases system resources, ensures all data is written (flushed), and prevents file corruption or data loss.\n",
        "\n",
        "20. What is the difference between file.read() and file.readline() in Python?\n",
        "\n",
        "ANS: file.read() reads the entire file as a single string, while file.readline() reads one line at a time.\n",
        "\n",
        "21. What is the logging module in Python used for?\n",
        "\n",
        "ANS: It provides a flexible framework for emitting log messages from Python programs for debugging and tracking.\n",
        "\n",
        "22. What is the os module in Python used for in file handling?\n",
        "\n",
        "ANS: The os module is used to interact with the operating system for file/directory operations like create, rename, delete, and path handling.\n",
        "\n",
        "23. What are the challenges associated with memory management in Python?\n",
        "\n",
        "ANS: Issues include circular references, memory leaks, managing large data structures, and unpredictable garbage collection timing.\n",
        "\n",
        "24. How do you raise an exception manually in Python?\n",
        "\n",
        "ANS: Use the raise keyword followed by an exception, e.g., raise ValueError(\"Invalid input\").\n",
        "\n",
        "25. Why is it important to use multithreading in certain applications?\n",
        "\n",
        "ANS: Multithreading improves performance in I/O-bound programs, enhances responsiveness, and allows concurrent task execution.\n",
        "\n",
        "\n",
        "\n"
      ],
      "metadata": {
        "id": "VSHkOE7ZskWU"
      }
    },
    {
      "cell_type": "markdown",
      "source": [
        "# Practical Questions"
      ],
      "metadata": {
        "id": "iajYPsdAtTIJ"
      }
    },
    {
      "cell_type": "markdown",
      "source": [
        "1.  How can you open a file for writing in Python and write a string to it\u001f"
      ],
      "metadata": {
        "id": "ahNGckuhtahe"
      }
    },
    {
      "cell_type": "code",
      "source": [
        "with open(\"file.txt\", \"w\") as f:\n",
        "    f.write(\"Hello, World!\")\n"
      ],
      "metadata": {
        "id": "HQG86tJrtbkv"
      },
      "execution_count": null,
      "outputs": []
    },
    {
      "cell_type": "markdown",
      "source": [
        "2. Write a Python program to read the contents of a file and print each line\n"
      ],
      "metadata": {
        "id": "n61WoW0-tcVX"
      }
    },
    {
      "cell_type": "code",
      "source": [
        "with open(\"file.txt\", \"r\") as file:\n",
        "    for line in file:\n",
        "        print(line.strip())\n"
      ],
      "metadata": {
        "id": "2o9AWDJAtct1"
      },
      "execution_count": null,
      "outputs": []
    },
    {
      "cell_type": "markdown",
      "source": [
        "3. How would you handle a case where the file doesn't exist while trying to open it for reading"
      ],
      "metadata": {
        "id": "51DZVl16td1s"
      }
    },
    {
      "cell_type": "code",
      "source": [
        "try:\n",
        "    with open(\"file.txt\", \"r\") as f:\n",
        "        data = f.read()\n",
        "except FileNotFoundError:\n",
        "    print(\"File not found.\")\n"
      ],
      "metadata": {
        "colab": {
          "base_uri": "https://localhost:8080/"
        },
        "id": "WUtWrDtAtenx",
        "outputId": "7b652117-fec2-43ab-c7b2-bc7f682e63a5"
      },
      "execution_count": null,
      "outputs": [
        {
          "output_type": "stream",
          "name": "stdout",
          "text": [
            "File not found.\n"
          ]
        }
      ]
    },
    {
      "cell_type": "markdown",
      "source": [
        "4.  Write a Python script that reads from one file ad writes its content to another file"
      ],
      "metadata": {
        "id": "AIIR1BlKtgAa"
      }
    },
    {
      "cell_type": "code",
      "source": [
        "with open(\"source.txt\", \"r\") as source, open(\"destination.txt\", \"w\") as destination:\n",
        "    destination.write(source.read())\n"
      ],
      "metadata": {
        "id": "PbtJ-YvTti43"
      },
      "execution_count": null,
      "outputs": []
    },
    {
      "cell_type": "markdown",
      "source": [
        "5. How would you catch and handle division by zero error in Python"
      ],
      "metadata": {
        "id": "LQl_GdmitjZM"
      }
    },
    {
      "cell_type": "code",
      "source": [
        "try:\n",
        "    result = 10 / 0\n",
        "except ZeroDivisionError:\n",
        "    print(\"Error: Division by zero is not allowed.\")\n"
      ],
      "metadata": {
        "id": "kOh-LyJdtkKv"
      },
      "execution_count": null,
      "outputs": []
    },
    {
      "cell_type": "markdown",
      "source": [
        "6. Write a Python program that logs an error message to a log file when a division by zero exception occurs\n"
      ],
      "metadata": {
        "id": "SaMaCCK3tkfo"
      }
    },
    {
      "cell_type": "code",
      "source": [
        "import logging\n",
        "\n",
        "logging.basicConfig(filename=\"error.log\", level=logging.ERROR)\n",
        "\n",
        "try:\n",
        "    x = 1 / 0\n",
        "except ZeroDivisionError:\n",
        "    logging.error(\"Division by zero occurred.\")\n"
      ],
      "metadata": {
        "id": "m_HSXI8ttk8V"
      },
      "execution_count": null,
      "outputs": []
    },
    {
      "cell_type": "markdown",
      "source": [
        "7.  How do you log information at different levels (INFO, ERROR, WARNING) in Python using the logging module"
      ],
      "metadata": {
        "id": "NrlnkVf4tlgq"
      }
    },
    {
      "cell_type": "code",
      "source": [
        "import logging\n",
        "\n",
        "logging.basicConfig(level=logging.DEBUG)\n",
        "logging.info(\"Info message\")\n",
        "logging.warning(\"Warning message\")\n",
        "logging.error(\"Error message\")\n"
      ],
      "metadata": {
        "id": "wQolxGwKtl4L"
      },
      "execution_count": null,
      "outputs": []
    },
    {
      "cell_type": "markdown",
      "source": [
        "8. Write a program to handle a file opening error using exception handling"
      ],
      "metadata": {
        "id": "HZb5Jl-4tmbG"
      }
    },
    {
      "cell_type": "code",
      "source": [
        "try:\n",
        "    with open(\"file.txt\", \"r\") as file:\n",
        "        print(file.read())\n",
        "except FileNotFoundError:\n",
        "    print(\"File not found.\")\n"
      ],
      "metadata": {
        "id": "WcbAKa8ctmv-"
      },
      "execution_count": null,
      "outputs": []
    },
    {
      "cell_type": "markdown",
      "source": [
        "9. How can you read a file line by line and store its content in a list in Python"
      ],
      "metadata": {
        "id": "O7t7QwgotnOf"
      }
    },
    {
      "cell_type": "code",
      "source": [
        "with open(\"file.txt\", \"r\") as file:\n",
        "    lines = [line.strip() for line in file]\n",
        "print(lines)\n"
      ],
      "metadata": {
        "id": "B4HG3s1Stnjy"
      },
      "execution_count": null,
      "outputs": []
    },
    {
      "cell_type": "markdown",
      "source": [
        "10. How can you append data to an existing file in Python"
      ],
      "metadata": {
        "id": "-KpEPJXGtowh"
      }
    },
    {
      "cell_type": "code",
      "source": [
        "with open(\"file.txt\", \"a\") as file:\n",
        "    file.write(\"\\nAppended text.\")\n"
      ],
      "metadata": {
        "id": "db15wx7ntqHJ"
      },
      "execution_count": null,
      "outputs": []
    },
    {
      "cell_type": "markdown",
      "source": [
        "11. Write a Python program that uses a try-except block to handle an error when attempting to access a\n",
        "dictionary key that doesn't exist"
      ],
      "metadata": {
        "id": "Di7xoGG-tqb1"
      }
    },
    {
      "cell_type": "code",
      "source": [
        "data = {\"name\": \"Rahul\"}\n",
        "\n",
        "try:\n",
        "    print(data[\"age\"])\n",
        "except KeyError:\n",
        "    print(\"Key not found.\")\n"
      ],
      "metadata": {
        "id": "QStfu1xJtq01"
      },
      "execution_count": null,
      "outputs": []
    },
    {
      "cell_type": "markdown",
      "source": [
        "12.  Write a program that demonstrates using multiple except blocks to handle different types of exceptions"
      ],
      "metadata": {
        "id": "x3moHz0lvZzc"
      }
    },
    {
      "cell_type": "code",
      "source": [
        "try:\n",
        "    x = int(\"abc\")\n",
        "    y = 10 / 0\n",
        "except ValueError:\n",
        "    print(\"ValueError: Invalid conversion.\")\n",
        "except ZeroDivisionError:\n",
        "    print(\"ZeroDivisionError: Cannot divide by zero.\")\n"
      ],
      "metadata": {
        "id": "SW9n1-WevaHf"
      },
      "execution_count": null,
      "outputs": []
    },
    {
      "cell_type": "markdown",
      "source": [
        "13. How would you check if a file exists before attempting to read it in Python"
      ],
      "metadata": {
        "id": "SIe31xD_vaa4"
      }
    },
    {
      "cell_type": "code",
      "source": [
        "import os\n",
        "\n",
        "if os.path.exists(\"file.txt\"):\n",
        "    with open(\"file.txt\", \"r\") as file:\n",
        "        print(file.read())\n",
        "else:\n",
        "    print(\"File does not exist.\")\n"
      ],
      "metadata": {
        "id": "cfNuKG6lva3q"
      },
      "execution_count": null,
      "outputs": []
    },
    {
      "cell_type": "markdown",
      "source": [
        "14.  Write a program that uses the logging module to log both informational and error messages"
      ],
      "metadata": {
        "id": "b3gJJv-pvbNh"
      }
    },
    {
      "cell_type": "code",
      "source": [
        "import logging\n",
        "\n",
        "logging.basicConfig(filename=\"app.log\", level=logging.DEBUG)\n",
        "logging.info(\"Program started\")\n",
        "try:\n",
        "    1 / 0\n",
        "except ZeroDivisionError:\n",
        "    logging.error(\"Attempted division by zero.\")\n"
      ],
      "metadata": {
        "id": "6NYuSk0zvb03"
      },
      "execution_count": null,
      "outputs": []
    },
    {
      "cell_type": "markdown",
      "source": [
        "15. Write a Python program that prints the content of a file and handles the case when the file is empty"
      ],
      "metadata": {
        "id": "OyI-ySmTvcdg"
      }
    },
    {
      "cell_type": "code",
      "source": [
        "with open(\"file.txt\", \"r\") as file:\n",
        "    content = file.read()\n",
        "    if content:\n",
        "        print(content)\n",
        "    else:\n",
        "        print(\"The file is empty.\")\n"
      ],
      "metadata": {
        "id": "BFakQ77HvdRf"
      },
      "execution_count": null,
      "outputs": []
    },
    {
      "cell_type": "markdown",
      "source": [
        "16. Demonstrate how to use memory profiling to check the memory usage of a small program"
      ],
      "metadata": {
        "id": "Qn6AlhwO5KG2"
      }
    },
    {
      "cell_type": "code",
      "source": [
        "# Run this with: python -m memory_profiler filename.py\n",
        "from memory_profiler import profile\n",
        "\n",
        "@profile\n",
        "def example():\n",
        "    x = [i for i in range(10000)]\n",
        "    return x\n",
        "\n",
        "example()\n"
      ],
      "metadata": {
        "id": "7LrqJoab5Kcx"
      },
      "execution_count": null,
      "outputs": []
    },
    {
      "cell_type": "markdown",
      "source": [
        "17.  Write a Python program to create and write a list of numbers to a file, one number per line"
      ],
      "metadata": {
        "id": "Q3wvJRwg5Kvx"
      }
    },
    {
      "cell_type": "code",
      "source": [
        "with open(\"numbers.txt\", \"w\") as file:\n",
        "    for i in range(1, 11):\n",
        "        file.write(f\"{i}\\n\")\n"
      ],
      "metadata": {
        "id": "xWyEZwBN5LHk"
      },
      "execution_count": null,
      "outputs": []
    },
    {
      "cell_type": "markdown",
      "source": [
        "18. How would you implement a basic logging setup that logs to a file with rotation after 1MB"
      ],
      "metadata": {
        "id": "PNYxyV2c5LZi"
      }
    },
    {
      "cell_type": "code",
      "source": [
        "import logging\n",
        "from logging.handlers import RotatingFileHandler\n",
        "\n",
        "handler = RotatingFileHandler(\"rotate.log\", maxBytes=1024*1024, backupCount=3)\n",
        "logger = logging.getLogger()\n",
        "logger.setLevel(logging.INFO)\n",
        "logger.addHandler(handler)\n",
        "\n",
        "logger.info(\"This is a test log message.\")\n"
      ],
      "metadata": {
        "id": "cD3xVvOH5LvX"
      },
      "execution_count": null,
      "outputs": []
    },
    {
      "cell_type": "markdown",
      "source": [
        "19. Write a program that handles both IndexError and KeyError using a try-except block"
      ],
      "metadata": {
        "id": "bFhyIzqs5MBi"
      }
    },
    {
      "cell_type": "code",
      "source": [
        "try:\n",
        "    lst = [1, 2]\n",
        "    print(lst[5])\n",
        "    d = {\"a\": 1}\n",
        "    print(d[\"b\"])\n",
        "except IndexError:\n",
        "    print(\"IndexError: List index out of range.\")\n",
        "except KeyError:\n",
        "    print(\"KeyError: Key not found in dictionary.\")\n"
      ],
      "metadata": {
        "id": "i2w7ihW75Mh0"
      },
      "execution_count": null,
      "outputs": []
    },
    {
      "cell_type": "markdown",
      "source": [
        "20. How would you open a file and read its contents using a context manager in Python"
      ],
      "metadata": {
        "id": "IvWLcFG15udT"
      }
    },
    {
      "cell_type": "code",
      "source": [
        "with open(\"file.txt\", \"r\") as file:\n",
        "    content = file.read()\n",
        "    print(content)\n"
      ],
      "metadata": {
        "id": "fCId9A585uy4"
      },
      "execution_count": null,
      "outputs": []
    },
    {
      "cell_type": "markdown",
      "source": [
        "21.  Write a Python program that reads a file and prints the number of occurrences of a specific word"
      ],
      "metadata": {
        "id": "UwAFimN75vFT"
      }
    },
    {
      "cell_type": "code",
      "source": [
        "word = \"python\"\n",
        "count = 0\n",
        "with open(\"file.txt\", \"r\") as file:\n",
        "    for line in file:\n",
        "        count += line.lower().count(word.lower())\n",
        "print(f\"'{word}' occurred {count} times.\")\n"
      ],
      "metadata": {
        "id": "yHDS2N1P5vaS"
      },
      "execution_count": null,
      "outputs": []
    },
    {
      "cell_type": "markdown",
      "source": [
        "22. How can you check if a file is empty before attempting to read its contents"
      ],
      "metadata": {
        "id": "rutQYfEM5v-v"
      }
    },
    {
      "cell_type": "code",
      "source": [
        "import os\n",
        "\n",
        "if os.stat(\"file.txt\").st_size == 0:\n",
        "    print(\"The file is empty.\")\n",
        "else:\n",
        "    with open(\"file.txt\", \"r\") as file:\n",
        "        print(file.read())\n"
      ],
      "metadata": {
        "id": "ioYs92RW5wVG"
      },
      "execution_count": null,
      "outputs": []
    },
    {
      "cell_type": "markdown",
      "source": [
        "23. Write a Python program that writes to a log file when an error occurs during file handling"
      ],
      "metadata": {
        "id": "-LjxpUNe5wpX"
      }
    },
    {
      "cell_type": "code",
      "source": [
        "import logging\n",
        "\n",
        "logging.basicConfig(filename=\"error_handling.log\", level=logging.ERROR)\n",
        "\n",
        "try:\n",
        "    with open(\"missing.txt\", \"r\") as file:\n",
        "        print(file.read())\n",
        "except FileNotFoundError as e:\n",
        "    logging.error(f\"File not found error: {e}\")\n"
      ],
      "metadata": {
        "id": "mI8Gkozj5xAE"
      },
      "execution_count": null,
      "outputs": []
    }
  ]
}